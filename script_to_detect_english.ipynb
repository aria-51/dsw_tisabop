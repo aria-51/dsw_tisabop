{
 "cells": [
  {
   "cell_type": "code",
   "execution_count": null,
   "metadata": {},
   "outputs": [],
   "source": [
    "# actually remove stuff (?) (might not even need this tbh)\n",
    "print(test.shape)\n",
    "def det(x):\n",
    "    try:\n",
    "        lang = detect(x)\n",
    "    except:\n",
    "        lang = 'Other'\n",
    "\n",
    "    return lang\n",
    "\n",
    "test['name'] = test['name'].apply(lambda x: '' if det(x)!='en' else x)\n",
    "print(test.shape)"
   ]
  }
 ],
 "metadata": {
  "language_info": {
   "name": "python"
  },
  "orig_nbformat": 4
 },
 "nbformat": 4,
 "nbformat_minor": 2
}
